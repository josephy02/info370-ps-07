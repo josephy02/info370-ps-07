{
  "nbformat": 4,
  "nbformat_minor": 0,
  "metadata": {
    "colab": {
      "provenance": []
    },
    "kernelspec": {
      "name": "python3",
      "display_name": "Python 3"
    },
    "language_info": {
      "name": "python"
    }
  },
  "cells": [
    {
      "cell_type": "code",
      "source": [
        "\"\"\"\n",
        "Hello y'all see this?\n",
        "\"\"\"\n",
        "from google.colab import drive\n",
        "import random\n",
        "import os\n",
        "import numpy as np\n",
        "import pandas as pd\n",
        "import matplotlib.pyplot as plt\n",
        "from matplotlib.image import imread\n",
        "from tensorflow import keras\n",
        "from tensorflow.keras.models import Sequential\n",
        "from tensorflow.keras.layers import *\n",
        "from tensorflow.keras.preprocessing.image import ImageDataGenerator"
      ],
      "metadata": {
        "id": "GYWdslI-sTsX"
      },
      "execution_count": null,
      "outputs": []
    },
    {
      "cell_type": "code",
      "execution_count": null,
      "metadata": {
        "id": "yhwSx51vSJgG"
      },
      "outputs": [],
      "source": [
        "# Connect Colab to Google Drive\n",
        "drive.mount('/content/drive', force_remount=True)"
      ]
    },
    {
      "cell_type": "code",
      "source": [
        "# Unzip training data, run once\n",
        "#!unzip drive/MyDrive/data/train.zip -d drive/MyDrive/data/"
      ],
      "metadata": {
        "id": "mLLPHBB6WG6O"
      },
      "execution_count": null,
      "outputs": []
    },
    {
      "cell_type": "code",
      "source": [
        "# Unzip validation data, run once\n",
        "#!unzip drive/MyDrive/data/validation.zip -d drive/MyDrive/data/"
      ],
      "metadata": {
        "id": "UW1xlsZzaW1b"
      },
      "execution_count": null,
      "outputs": []
    },
    {
      "cell_type": "code",
      "source": [
        "# This code chunk puts all image paths and their labels in a dataframe\n",
        "train_paths = []\n",
        "train_labels = []\n",
        "validation_paths = []\n",
        "validation_labels = []\n",
        "troot = 'drive/MyDrive/data/train-cropped'\n",
        "vroot = 'drive/MyDrive/data/validation-cropped'\n",
        "\n",
        "for f in os.listdir(troot):\n",
        "  tpath = os.path.join(troot, f)\n",
        "  tlabel = f[-10:-8]\n",
        "  train_paths.append(tpath)\n",
        "  train_labels.append(tlabel)\n",
        "\n",
        "for f in os.listdir(vroot):\n",
        "  vpath = os.path.join(vroot, f)\n",
        "  vlabel = f[-10:-8]\n",
        "  validation_paths.append(vpath)\n",
        "  validation_labels.append(vlabel)\n",
        "\n",
        "train_images = pd.DataFrame({'path': train_paths,\n",
        "                             'label': train_labels})\n",
        "validation_images = pd.DataFrame({'path': validation_paths,\n",
        "                                  'label': validation_labels})"
      ],
      "metadata": {
        "id": "x-vpLAwseCZF"
      },
      "execution_count": 7,
      "outputs": []
    },
    {
      "cell_type": "code",
      "source": [
        "def get_subset(n, data, seed=123):\n",
        "  random.seed(seed)\n",
        "  sub = random.sample(range(data.shape[0] + 1), n)\n",
        "  return data.iloc[sub,:]\n",
        "\n",
        "train_subset = get_subset(1000, train_images)\n",
        "validation_subset = get_subset(1000, validation_images)"
      ],
      "metadata": {
        "id": "H92_LMq-4xFX"
      },
      "execution_count": 8,
      "outputs": []
    },
    {
      "cell_type": "code",
      "source": [
        "imageWidth, imageHeight = 128, 128\n",
        "channel = 1\n",
        "imageSize = (imageWidth, imageHeight)"
      ],
      "metadata": {
        "id": "VELC0V_JzOzB"
      },
      "execution_count": 15,
      "outputs": []
    },
    {
      "cell_type": "code",
      "source": [
        "train_generator = ImageDataGenerator(\n",
        "    rescale=1./255\n",
        ").flow_from_dataframe(\n",
        "    dataframe = train_subset,\n",
        "    directory = None,         # `train_subset` contains absolute paths\n",
        "    x_col='path',\n",
        "    y_col='label',\n",
        "    class_mode='categorical',  # target is 2-D array of one-hot encoded labels\n",
        "    target_size=imageSize,\n",
        "    color_mode=\"grayscale\",\n",
        "    shuffle=False\n",
        "    )\n",
        "\n",
        "validation_generator = ImageDataGenerator(\n",
        "    rescale=1./255\n",
        ").flow_from_dataframe(\n",
        "    dataframe = validation_subset,\n",
        "    directory = None,\n",
        "    x_col='path',\n",
        "    class_mode= None,\n",
        "    target_size=imageSize,\n",
        "    color_mode=\"grayscale\",\n",
        "    shuffle=False\n",
        "    )"
      ],
      "metadata": {
        "id": "NXYyrEJgzQ9A",
        "colab": {
          "base_uri": "https://localhost:8080/"
        },
        "outputId": "e6f420de-259a-41b0-890f-e32ae323a9d5"
      },
      "execution_count": 21,
      "outputs": [
        {
          "output_type": "stream",
          "name": "stdout",
          "text": [
            "Found 1000 validated image filenames belonging to 5 classes.\n",
            "Found 1000 validated image filenames.\n"
          ]
        }
      ]
    },
    {
      "cell_type": "code",
      "source": [
        "nCategories = 5\n",
        "model = Sequential()\n",
        "## First convolutional layer with 32 filters (kernels)\n",
        "model.add(Conv2D(filters = 32,\n",
        "                 kernel_size=2,\n",
        "                 activation='relu',\n",
        "                 input_shape=(imageWidth, imageHeight, channel)))\n",
        "model.add(BatchNormalization())\n",
        "model.add(MaxPooling2D(pool_size=2))\n",
        "model.add(Dropout(0.25))\n",
        "## 2nd convolutional layer\n",
        "model.add(Conv2D(64,\n",
        "                 kernel_size = 2,\n",
        "                 activation='relu'))\n",
        "model.add(BatchNormalization())\n",
        "model.add(MaxPooling2D(pool_size=2))\n",
        "model.add(Dropout(0.25))\n",
        "## 3rd convolutional layer\n",
        "model.add(Conv2D(filters = 128,\n",
        "                 kernel_size=2,\n",
        "                 activation='relu'))\n",
        "model.add(BatchNormalization())\n",
        "model.add(MaxPooling2D(pool_size=2))\n",
        "model.add(Dropout(0.25))\n",
        "## Flatten the image into a string of pixels\n",
        "model.add(Flatten())\n",
        "## Use one final dense layer\n",
        "model.add(Dense(512, activation='relu'))\n",
        "model.add(BatchNormalization())\n",
        "model.add(Dropout(0.5))\n",
        "## Output layer with 2 softmax nodes\n",
        "model.add(Dense(nCategories, activation='softmax'))\n",
        "\n",
        "model.compile(optimizer='adam', loss='categorical_crossentropy', metrics=['accuracy'])\n",
        "history = model.fit(train_generator, epochs=2)\n",
        "history.history\n",
        "#model.compile(loss='sparse_categorical_crossentropy', metrics=['accuracy'])\n",
        "#\n",
        "#history = model.fit(train_generator, epochs=1)\n",
        "#train_phat = model.predict(train_generator)\n",
        "#validation_phat = model.predict(validation_generator)\n",
        "#label_map = {0:\"DA\", 1:\"EN\", 2:\"RU\", 3:\"TH\", 4:\"ZN\"}\n",
        "#\n",
        "#train_predictions = np.argmax(train_phat, axis=-1)\n",
        "#validation_predictions = np.argmax(validation_phat, axis=-1)\n",
        "#\n",
        "#train_true_labels = train_subset['label'].replace(label_map)\n",
        "#validation_true_lables = train_subset['label'].replace(label_map)\n",
        "#\n",
        "#tacc = np.sum([1 if train_predictions[i] == train_true_labels[i] else 0 for i in range(len(train_predictions))])\n",
        "#tacc"
      ],
      "metadata": {
        "id": "WiWL0gtE2ED5",
        "colab": {
          "base_uri": "https://localhost:8080/"
        },
        "outputId": "f9728962-dbdd-456d-bb80-ac8cba02bda0"
      },
      "execution_count": 24,
      "outputs": [
        {
          "output_type": "stream",
          "name": "stdout",
          "text": [
            "Epoch 1/2\n",
            "32/32 [==============================] - 199s 6s/step - loss: 1.1102 - accuracy: 0.7260\n",
            "Epoch 2/2\n",
            "32/32 [==============================] - 25s 763ms/step - loss: 0.4806 - accuracy: 0.8450\n"
          ]
        },
        {
          "output_type": "execute_result",
          "data": {
            "text/plain": [
              "{'loss': [1.1102466583251953, 0.4805636703968048],\n",
              " 'accuracy': [0.7260000109672546, 0.8450000286102295]}"
            ]
          },
          "metadata": {},
          "execution_count": 24
        }
      ]
    },
    {
      "cell_type": "code",
      "source": [
        "model.summary()"
      ],
      "metadata": {
        "colab": {
          "base_uri": "https://localhost:8080/"
        },
        "id": "CYXfpH1sKuBP",
        "outputId": "3ed111d3-27d4-48af-e05f-970b6c807da5"
      },
      "execution_count": 26,
      "outputs": [
        {
          "output_type": "stream",
          "name": "stdout",
          "text": [
            "Model: \"sequential_7\"\n",
            "_________________________________________________________________\n",
            " Layer (type)                Output Shape              Param #   \n",
            "=================================================================\n",
            " conv2d_19 (Conv2D)          (None, 127, 127, 32)      160       \n",
            "                                                                 \n",
            " batch_normalization_24 (Ba  (None, 127, 127, 32)      128       \n",
            " tchNormalization)                                               \n",
            "                                                                 \n",
            " max_pooling2d_18 (MaxPooli  (None, 63, 63, 32)        0         \n",
            " ng2D)                                                           \n",
            "                                                                 \n",
            " dropout_24 (Dropout)        (None, 63, 63, 32)        0         \n",
            "                                                                 \n",
            " conv2d_20 (Conv2D)          (None, 62, 62, 64)        8256      \n",
            "                                                                 \n",
            " batch_normalization_25 (Ba  (None, 62, 62, 64)        256       \n",
            " tchNormalization)                                               \n",
            "                                                                 \n",
            " max_pooling2d_19 (MaxPooli  (None, 31, 31, 64)        0         \n",
            " ng2D)                                                           \n",
            "                                                                 \n",
            " dropout_25 (Dropout)        (None, 31, 31, 64)        0         \n",
            "                                                                 \n",
            " conv2d_21 (Conv2D)          (None, 30, 30, 128)       32896     \n",
            "                                                                 \n",
            " batch_normalization_26 (Ba  (None, 30, 30, 128)       512       \n",
            " tchNormalization)                                               \n",
            "                                                                 \n",
            " max_pooling2d_20 (MaxPooli  (None, 15, 15, 128)       0         \n",
            " ng2D)                                                           \n",
            "                                                                 \n",
            " dropout_26 (Dropout)        (None, 15, 15, 128)       0         \n",
            "                                                                 \n",
            " flatten_6 (Flatten)         (None, 28800)             0         \n",
            "                                                                 \n",
            " dense_12 (Dense)            (None, 512)               14746112  \n",
            "                                                                 \n",
            " batch_normalization_27 (Ba  (None, 512)               2048      \n",
            " tchNormalization)                                               \n",
            "                                                                 \n",
            " dropout_27 (Dropout)        (None, 512)               0         \n",
            "                                                                 \n",
            " dense_13 (Dense)            (None, 5)                 2565      \n",
            "                                                                 \n",
            "=================================================================\n",
            "Total params: 14792933 (56.43 MB)\n",
            "Trainable params: 14791461 (56.42 MB)\n",
            "Non-trainable params: 1472 (5.75 KB)\n",
            "_________________________________________________________________\n"
          ]
        }
      ]
    }
  ]
}